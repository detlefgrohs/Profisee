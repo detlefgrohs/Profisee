{
 "cells": [
  {
   "cell_type": "code",
   "execution_count": 11,
   "id": "a39c65af",
   "metadata": {},
   "outputs": [
    {
     "name": "stdout",
     "output_type": "stream",
     "text": [
      "a\n",
      "b\n",
      "c\n",
      "d\n",
      "e\n"
     ]
    }
   ],
   "source": [
    "names_list = [ 'a', 'b', 'c', 'd', 'e' ]\n",
    "only_names = [] # [ 'b', 'd' ]\n",
    "\n",
    "for name in filter(lambda item : not only_names or item in only_names, names_list):\n",
    "    print(name)"
   ]
  },
  {
   "cell_type": "code",
   "execution_count": 10,
   "id": "9bdfdb63",
   "metadata": {},
   "outputs": [
    {
     "name": "stdout",
     "output_type": "stream",
     "text": [
      "http://example.com/profisee/rest/v1/Entities\n"
     ]
    }
   ],
   "source": [
    "from urllib.parse import urljoin\n",
    "\n",
    "profisee_url = \"http://example.com/profisee/\"\n",
    "service_uri = \"rest/v1/Entities\"\n",
    "\n",
    "print(urljoin(profisee_url, service_uri))"
   ]
  },
  {
   "cell_type": "code",
   "execution_count": 5,
   "id": "4fe64d1b",
   "metadata": {},
   "outputs": [
    {
     "name": "stdout",
     "output_type": "stream",
     "text": [
      "2025-09-13 17:57:35.924563+00:00\n",
      "2025-09-13T17:57:35.924563+00:00\n",
      "2025-09-13T17:57:35Z\n"
     ]
    }
   ],
   "source": [
    "from datetime import datetime, timezone\n",
    "\n",
    "current_datetime = datetime.now(timezone.utc)\n",
    "\n",
    "print(current_datetime)\n",
    "print(current_datetime.isoformat())  # Outputs in ISO 8601 format\n",
    "\n",
    "print(current_datetime.strftime('%Y-%m-%dT%H:%M:%SZ'))  # Outputs in 'YYYY-MM-DDTHH:MM:SSZ' format"
   ]
  }
 ],
 "metadata": {
  "kernelspec": {
   "display_name": "Python 3",
   "language": "python",
   "name": "python3"
  },
  "language_info": {
   "codemirror_mode": {
    "name": "ipython",
    "version": 3
   },
   "file_extension": ".py",
   "mimetype": "text/x-python",
   "name": "python",
   "nbconvert_exporter": "python",
   "pygments_lexer": "ipython3",
   "version": "3.13.5"
  }
 },
 "nbformat": 4,
 "nbformat_minor": 5
}
