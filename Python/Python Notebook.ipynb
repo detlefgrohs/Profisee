{
 "cells": [
  {
   "cell_type": "code",
   "execution_count": 11,
   "id": "a39c65af",
   "metadata": {},
   "outputs": [
    {
     "name": "stdout",
     "output_type": "stream",
     "text": [
      "a\n",
      "b\n",
      "c\n",
      "d\n",
      "e\n"
     ]
    }
   ],
   "source": [
    "names_list = [ 'a', 'b', 'c', 'd', 'e' ]\n",
    "only_names = [] # [ 'b', 'd' ]\n",
    "\n",
    "for name in filter(lambda item : not only_names or item in only_names, names_list):\n",
    "    print(name)"
   ]
  },
  {
   "cell_type": "code",
   "execution_count": 10,
   "id": "9bdfdb63",
   "metadata": {},
   "outputs": [
    {
     "name": "stdout",
     "output_type": "stream",
     "text": [
      "http://example.com/profisee/rest/v1/Entities\n"
     ]
    }
   ],
   "source": [
    "from urllib.parse import urljoin\n",
    "\n",
    "profisee_url = \"http://example.com/profisee/\"\n",
    "service_uri = \"rest/v1/Entities\"\n",
    "\n",
    "print(urljoin(profisee_url, service_uri))"
   ]
  },
  {
   "cell_type": "code",
   "execution_count": 5,
   "id": "4fe64d1b",
   "metadata": {},
   "outputs": [
    {
     "name": "stdout",
     "output_type": "stream",
     "text": [
      "2025-09-13 17:57:35.924563+00:00\n",
      "2025-09-13T17:57:35.924563+00:00\n",
      "2025-09-13T17:57:35Z\n"
     ]
    }
   ],
   "source": [
    "from datetime import datetime, timezone\n",
    "\n",
    "current_datetime = datetime.now(timezone.utc)\n",
    "\n",
    "print(current_datetime)\n",
    "print(current_datetime.isoformat())  # Outputs in ISO 8601 format\n",
    "\n",
    "print(current_datetime.strftime('%Y-%m-%dT%H:%M:%SZ'))  # Outputs in 'YYYY-MM-DDTHH:MM:SSZ' format"
   ]
  },
  {
   "cell_type": "code",
   "execution_count": 7,
   "id": "0cd6fbe3",
   "metadata": {},
   "outputs": [
    {
     "name": "stdout",
     "output_type": "stream",
     "text": [
      "{1: 'a', 2: 'e', 3: 'c', 4: 'd', 6: 'f'}\n"
     ]
    }
   ],
   "source": [
    "dict_a = {1: 'a', 2: 'b', 3: 'c'}\n",
    "dict_b = {4: 'd', 2: 'e', 6: 'f'}\n",
    "\n",
    "combined_dict = dict_a | dict_b\n",
    "\n",
    "print(combined_dict)"
   ]
  },
  {
   "cell_type": "code",
   "execution_count": null,
   "id": "7c7d1495",
   "metadata": {},
   "outputs": [],
   "source": [
    "def create_response(self, request: Dict[str, Any], payload: Dict[str, Any], processing: int = 0) -> Dict[str, Any]:\n",
    "    response = {\n",
    "        \"ProcessingStatus\": processing,\n",
    "        \"ResponsePayload\": request | payload\n",
    "    }\n",
    "    self.log_message(f\"   create_response({response})\")\n",
    "    return response"
   ]
  },
  {
   "cell_type": "code",
   "execution_count": null,
   "id": "05814e5d",
   "metadata": {},
   "outputs": [
    {
     "name": "stdout",
     "output_type": "stream",
     "text": [
      "Red: 255, Green: 255, Blue: 255\n",
      "(255, 255, 255)\n"
     ]
    }
   ],
   "source": [
    "\n",
    "\n",
    "value = \"255, 255, 255\"\n",
    "\n",
    "def parse_rgb(value: str) -> tuple[int, int, int]:\n",
    "    parts = value.split(',')\n",
    "    if len(parts) != 3:\n",
    "        raise ValueError(\"Input must contain exactly three comma-separated values.\")\n",
    "    try:\n",
    "        r, g, b = (int(part.strip()) for part in parts)\n",
    "    except ValueError:\n",
    "        raise ValueError(\"All parts must be integers.\")\n",
    "    \n",
    "    for color in (r, g, b):\n",
    "        if not (0 <= color <= 255):\n",
    "            raise ValueError(\"Color values must be between 0 and 255.\")\n",
    "    return r, g, b\n",
    "\n",
    "r, g, b = parse_rgb(value)\n",
    "print(f\"Red: {r}, Green: {g}, Blue: {b}\")\n",
    "\n",
    "x = parse_rgb(\"255, 255, 255\")\n",
    "print(x)  # Output: (255, 255, 255)\n"
   ]
  }
 ],
 "metadata": {
  "kernelspec": {
   "display_name": "Python 3",
   "language": "python",
   "name": "python3"
  },
  "language_info": {
   "codemirror_mode": {
    "name": "ipython",
    "version": 3
   },
   "file_extension": ".py",
   "mimetype": "text/x-python",
   "name": "python",
   "nbconvert_exporter": "python",
   "pygments_lexer": "ipython3",
   "version": "3.13.5"
  }
 },
 "nbformat": 4,
 "nbformat_minor": 5
}
